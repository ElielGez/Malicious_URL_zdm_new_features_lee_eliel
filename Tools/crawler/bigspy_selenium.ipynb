{
 "cells": [
  {
   "cell_type": "code",
   "execution_count": null,
   "metadata": {},
   "outputs": [],
   "source": [
    "from concurrent.futures import ThreadPoolExecutor\n",
    "\n",
    "def run_io_tasks_in_parallel(tasks):\n",
    "    with ThreadPoolExecutor() as executor:\n",
    "        running_tasks = [executor.submit(task) for task in tasks]\n",
    "        for running_task in running_tasks:\n",
    "            running_task.result()"
   ]
  },
  {
   "cell_type": "code",
   "execution_count": null,
   "metadata": {},
   "outputs": [],
   "source": [
    "\n",
    "from selenium import webdriver\n",
    "from urllib.parse import urlparse\n",
    "import time\n",
    "from phishtankcrawler import filter_dns\n",
    "\n",
    "options = webdriver.ChromeOptions()\n",
    "# options.add_argument(\"--start-maximized\")\n",
    "options.add_argument(\"--headless\")\n",
    "options.add_argument(\"--incognito\")\n",
    "\n",
    "def crawler(social):\n",
    "    file = open('spy_domains.txt','a')\n",
    "    # DOWNLOAD driver from here: https://chromedriver.chromium.org/downloads\n",
    "    # DOWNLOAD the version according to your chrome version on the computer\n",
    "    driver = webdriver.Chrome('chromedriver.exe',options=options)\n",
    "    driver.get('https://bigspy.com/adspy/' + social +  '/?utm_home=1')\n",
    "\n",
    "    time.sleep(2);\n",
    "\n",
    "    driver.switch_to.frame('zbaseiframe')\n",
    "\n",
    "    urls = driver.find_elements_by_xpath('//*[@class=\"src-css-home-everyLiDomain-17lu\"]//span')\n",
    "\n",
    "    for url in urls:\n",
    "        domain = urlparse('https://' + url.text).netloc\n",
    "        if filter_dns(domain) == 1:\n",
    "            file.write(domain + \"\\n\")\n",
    "\n",
    "    driver.close()\n",
    "    file.close()\n",
    "\n",
    "def crawlerLoop(times,social):\n",
    "    for _ in range(times):\n",
    "        crawler(social)"
   ]
  },
  {
   "cell_type": "code",
   "execution_count": null,
   "metadata": {},
   "outputs": [],
   "source": [
    "import os\n",
    "def removeduplicates():\n",
    "    spyFile = open('spy_domains.txt', 'r')\n",
    "    lines = spyFile.read().splitlines()\n",
    "    domainsFile = open('domains.txt', 'r')\n",
    "    seen = domainsFile.read().splitlines()\n",
    "    domains = []\n",
    "    for domain in lines:\n",
    "        if domain not in seen:\n",
    "            seen.append(domain)\n",
    "            domains.append(domain + \"\\n\");\n",
    "\n",
    "    domainsFile.close()\n",
    "    domainsFile = open('domains.txt', 'a')\n",
    "    if len(domains) > 0:\n",
    "        domainsFile.write(''.join(domains))\n",
    "\n",
    "    spyFile.close()\n",
    "    domainsFile.close()\n"
   ]
  },
  {
   "cell_type": "code",
   "execution_count": null,
   "metadata": {},
   "outputs": [],
   "source": [
    "from functools import partial\n",
    "\n",
    "run_io_tasks_in_parallel([\n",
    "    lambda : crawlerLoop(10,'instagram'),\n",
    "    lambda : crawlerLoop(10,'facebook'),\n",
    "    lambda : crawlerLoop(10,'twitter')])\n"
   ]
  },
  {
   "cell_type": "code",
   "execution_count": null,
   "metadata": {},
   "outputs": [],
   "source": [
    "\n",
    "removeduplicates()"
   ]
  }
 ],
 "metadata": {
  "interpreter": {
   "hash": "ac59ebe37160ed0dfa835113d9b8498d9f09ceb179beaac4002f036b9467c963"
  },
  "kernelspec": {
   "display_name": "Python 3.9.7 64-bit",
   "language": "python",
   "name": "python3"
  },
  "language_info": {
   "codemirror_mode": {
    "name": "ipython",
    "version": 3
   },
   "file_extension": ".py",
   "mimetype": "text/x-python",
   "name": "python",
   "nbconvert_exporter": "python",
   "pygments_lexer": "ipython3",
   "version": "3.9.7"
  },
  "orig_nbformat": 4
 },
 "nbformat": 4,
 "nbformat_minor": 2
}
