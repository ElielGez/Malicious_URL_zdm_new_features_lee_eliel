{
 "cells": [
  {
   "cell_type": "code",
   "execution_count": 1,
   "metadata": {},
   "outputs": [
    {
     "name": "stderr",
     "output_type": "stream",
     "text": [
      "C:\\Users\\eliel.gez\\AppData\\Local\\Temp/ipykernel_20780/325025147.py:10: DeprecationWarning: executable_path has been deprecated, please pass in a Service object\n",
      "  driver = webdriver.Chrome('C:\\\\Users\\\\eliel.gez\\\\Downloads\\\\chromedriver_win32\\\\chromedriver.exe',chrome_options=options)\n",
      "C:\\Users\\eliel.gez\\AppData\\Local\\Temp/ipykernel_20780/325025147.py:10: DeprecationWarning: use options instead of chrome_options\n",
      "  driver = webdriver.Chrome('C:\\\\Users\\\\eliel.gez\\\\Downloads\\\\chromedriver_win32\\\\chromedriver.exe',chrome_options=options)\n"
     ]
    }
   ],
   "source": [
    "from selenium import webdriver\n",
    "import time\n",
    "import facebook\n",
    "\n",
    "## NOT WORKING - social media block the user\n",
    "\n",
    "#TODO: switch case on type and get other social media\n",
    "social = facebook;\n",
    "\n",
    "options = webdriver.ChromeOptions()\n",
    "options.add_argument(\"--start-maximized\")\n",
    "driver = webdriver.Chrome('C:\\\\Users\\\\eliel.gez\\\\Downloads\\\\chromedriver_win32\\\\chromedriver.exe',chrome_options=options)\n",
    "\n",
    "time.sleep(1)\n",
    "\n",
    "driver.get(social.domain)\n",
    "\n",
    "time.sleep(2);"
   ]
  },
  {
   "cell_type": "code",
   "execution_count": 2,
   "metadata": {},
   "outputs": [
    {
     "name": "stderr",
     "output_type": "stream",
     "text": [
      "C:\\Users\\eliel.gez\\AppData\\Local\\Temp/ipykernel_20780/1726618015.py:1: DeprecationWarning: find_element_by_* commands are deprecated. Please use find_element() instead\n",
      "  driver.find_element_by_xpath(social.login_username_selector).send_keys(social.username)\n",
      "C:\\Users\\eliel.gez\\AppData\\Local\\Temp/ipykernel_20780/1726618015.py:3: DeprecationWarning: find_element_by_* commands are deprecated. Please use find_element() instead\n",
      "  driver.find_element_by_xpath(social.login_password_selector).send_keys(social.password)\n",
      "C:\\Users\\eliel.gez\\AppData\\Local\\Temp/ipykernel_20780/1726618015.py:5: DeprecationWarning: find_element_by_* commands are deprecated. Please use find_element() instead\n",
      "  driver.find_element_by_xpath(social.login_button_selector).click()\n"
     ]
    }
   ],
   "source": [
    "driver.find_element_by_xpath(social.login_username_selector).send_keys(social.username)\n",
    "time.sleep(1)\n",
    "driver.find_element_by_xpath(social.login_password_selector).send_keys(social.password)\n",
    "time.sleep(1)\n",
    "driver.find_element_by_xpath(social.login_button_selector).click()\n",
    "time.sleep(1)"
   ]
  }
 ],
 "metadata": {
  "interpreter": {
   "hash": "ac59ebe37160ed0dfa835113d9b8498d9f09ceb179beaac4002f036b9467c963"
  },
  "kernelspec": {
   "display_name": "Python 3.9.7 64-bit",
   "language": "python",
   "name": "python3"
  },
  "language_info": {
   "codemirror_mode": {
    "name": "ipython",
    "version": 3
   },
   "file_extension": ".py",
   "mimetype": "text/x-python",
   "name": "python",
   "nbconvert_exporter": "python",
   "pygments_lexer": "ipython3",
   "version": "3.9.7"
  },
  "orig_nbformat": 4
 },
 "nbformat": 4,
 "nbformat_minor": 2
}
